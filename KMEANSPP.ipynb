{
  "nbformat": 4,
  "nbformat_minor": 0,
  "metadata": {
    "kernelspec": {
      "display_name": "Python 3",
      "language": "python",
      "name": "python3"
    },
    "language_info": {
      "codemirror_mode": {
        "name": "ipython",
        "version": 3
      },
      "file_extension": ".py",
      "mimetype": "text/x-python",
      "name": "python",
      "nbconvert_exporter": "python",
      "pygments_lexer": "ipython3",
      "version": "3.7.4"
    },
    "colab": {
      "name": "KMEANSPP.ipynb",
      "provenance": [],
      "collapsed_sections": [],
      "toc_visible": true
    }
  },
  "cells": [
    {
      "cell_type": "code",
      "metadata": {
        "id": "zLB5jvinjJ4A",
        "colab": {
          "base_uri": "https://localhost:8080/",
          "height": 51
        },
        "outputId": "f7f244f6-e50e-4e6e-a9e6-043a4794da71"
      },
      "source": [
        "!pip install pyspark"
      ],
      "execution_count": null,
      "outputs": [
        {
          "output_type": "stream",
          "text": [
            "Requirement already satisfied: pyspark in /usr/local/lib/python3.6/dist-packages (3.0.1)\n",
            "Requirement already satisfied: py4j==0.10.9 in /usr/local/lib/python3.6/dist-packages (from pyspark) (0.10.9)\n"
          ],
          "name": "stdout"
        }
      ]
    },
    {
      "cell_type": "code",
      "metadata": {
        "id": "P7tyjFqFjg_6",
        "colab": {
          "base_uri": "https://localhost:8080/",
          "height": 34
        },
        "outputId": "f16e2087-573e-4b25-feba-282924fae2b0"
      },
      "source": [
        "from google.colab import drive\n",
        "drive.mount('/content/drive')"
      ],
      "execution_count": null,
      "outputs": [
        {
          "output_type": "stream",
          "text": [
            "Drive already mounted at /content/drive; to attempt to forcibly remount, call drive.mount(\"/content/drive\", force_remount=True).\n"
          ],
          "name": "stdout"
        }
      ]
    },
    {
      "cell_type": "code",
      "metadata": {
        "id": "gqIDzmcV_isd"
      },
      "source": [
        "# importing all relevent python libraries\n",
        "\n",
        "import math\n",
        "from scipy.spatial import distance as spa\n",
        "import numpy as np\n",
        "import time as time\n",
        "from pyspark import SparkContext\n",
        "import matplotlib.pyplot as plt "
      ],
      "execution_count": null,
      "outputs": []
    },
    {
      "cell_type": "code",
      "metadata": {
        "id": "r5etPpezlNiJ"
      },
      "source": [
        "# initializing the spark context\n",
        "sc = SparkContext()"
      ],
      "execution_count": null,
      "outputs": []
    },
    {
      "cell_type": "code",
      "metadata": {
        "id": "IF2WaQJkFX9b"
      },
      "source": [
        "#splitting each value from each line\n",
        "def split_line(row):\n",
        "    values = row[0]\n",
        "    index = row[1]\n",
        "    li = values.split(\" \")\n",
        "    for i in range(len(li)):\n",
        "        li[i] = float(li[i])\n",
        "    return (index, li)\n",
        "\n",
        "#loading the data from the file\n",
        "def loadData(path):\n",
        "    text = sc.textFile(path,2)\n",
        "    data = text.filter(lambda x: x is not None).filter(lambda x: x != \"\")\n",
        "    data_index = data.zipWithIndex()\n",
        "    return data_index.map(lambda x: split_line(x))"
      ],
      "execution_count": null,
      "outputs": []
    },
    {
      "cell_type": "code",
      "metadata": {
        "id": "mqGC5cp8nmK8"
      },
      "source": [
        "path = \"/content/drive/My Drive/BIGDATA Fall2020/Project 3/data.txt\"\n",
        "\n",
        "#load data to the rdd\n",
        "data_rdd = loadData(path)\n",
        "\n",
        "#k clusters and i iterations\n",
        "k = 10\n",
        "I = 20"
      ],
      "execution_count": null,
      "outputs": []
    },
    {
      "cell_type": "code",
      "metadata": {
        "id": "pFUoCqGxkPf_"
      },
      "source": [
        "#selecting centroids with euclidean distance\n",
        "#get the farthest centroid from the selected group of centroids\n",
        "def centroid_with_max_dist(x):\n",
        "  arr = np.array(x[1])\n",
        "  max_dist = -np.inf\n",
        "\n",
        "  for item in bcentroids.value:\n",
        "    index = item[0]\n",
        "    centroid = np.array(item[1])\n",
        "    dist = spa.euclidean(arr, centroid)\n",
        "    \n",
        "    if dist > max_dist:\n",
        "      max_dist = dist**2\n",
        "      farthest_centroid = index\n",
        "  \n",
        "  return (x[0],  max_dist)\n",
        "\n",
        "#filtering appropritate centroids\n",
        "def filter_centroids(x):\n",
        "  if x[0] in bcentroids_keys.value:\n",
        "    return ()\n",
        "  else:\n",
        "    return x\n",
        "\n",
        "e_centroids = sc.parallelize(data_rdd.takeSample(False, 1))\n",
        "\n",
        "#broadcasting the rdds\n",
        "bcentroids_keys = sc.broadcast(e_centroids.keys().collect())\n",
        "bcentroids = sc.broadcast(e_centroids.collect())\n",
        "\n",
        "#loop for getting k centroids\n",
        "for i in range(1,k):\n",
        "\n",
        "  filtered_rdd = data_rdd.map(filter_centroids).filter(lambda x: x)\n",
        "  max_dist = filtered_rdd.map(lambda x: centroid_with_max_dist(x))\n",
        "  sum = max_dist.map(lambda x : x[1]).sum()\n",
        "  max_dist = max_dist.map(lambda x : (x[0], x[1]/sum))\n",
        "\n",
        "  max_dist_keys = max_dist.keys().collect()\n",
        "  max_dist_values = max_dist.values().collect()\n",
        "\n",
        "  rand = np.random.choice(max_dist_keys, 1, p=max_dist_values)\n",
        "\n",
        "  new_centroid = filtered_rdd.filter(lambda x : x[0] == rand)\n",
        "  e_centroids = e_centroids.union(new_centroid)\n",
        "  \n",
        "  bcentroids_keys = sc.broadcast(e_centroids.keys().collect())\n",
        "  bcentroids = sc.broadcast(e_centroids.collect())"
      ],
      "execution_count": null,
      "outputs": []
    },
    {
      "cell_type": "code",
      "metadata": {
        "id": "13KbVH0H-lo-",
        "colab": {
          "base_uri": "https://localhost:8080/",
          "height": 241
        },
        "outputId": "85608326-9e09-46f0-c3d7-bd34e1c3a9e3"
      },
      "source": [
        "print(\"Initial Centroids with euclidian distance:\\n\")\n",
        "for item in e_centroids.collect():\n",
        "  print(item)"
      ],
      "execution_count": null,
      "outputs": [
        {
          "output_type": "stream",
          "text": [
            "Initial Centroids with euclidian distance:\n",
            "\n",
            "(2593, [0.0, 0.0, 0.18, 0.0, 0.0, 0.09, 0.0, 0.0, 0.0, 0.0, 0.0, 0.94, 0.37, 0.0, 0.0, 0.0, 0.28, 0.0, 0.0, 0.0, 0.0, 0.0, 0.0, 0.0, 1.41, 0.0, 0.0, 0.0, 0.0, 0.0, 0.0, 0.0, 0.84, 0.0, 0.0, 0.47, 0.09, 0.09, 0.0, 0.0, 0.0, 0.0, 0.0, 0.0, 0.0, 0.0, 0.0, 0.0, 0.052, 0.065, 0.0, 0.0, 0.0, 0.0, 2.022, 19.0, 451.0, 0.0])\n",
            "(3301, [0.0, 0.0, 0.0, 0.0, 0.0, 0.0, 0.0, 0.0, 0.0, 0.0, 0.0, 0.0, 0.0, 2.94, 0.0, 0.0, 0.0, 0.0, 2.94, 0.0, 2.94, 0.0, 0.0, 0.0, 0.0, 0.0, 2.94, 0.0, 0.0, 0.0, 0.0, 0.0, 0.0, 0.0, 0.0, 0.0, 0.0, 0.0, 0.0, 0.0, 0.0, 0.0, 0.0, 0.0, 2.94, 0.0, 0.0, 0.0, 0.0, 0.0, 0.0, 0.0, 0.0, 0.0, 1.0, 1.0, 10.0, 0.0])\n",
            "(1847, [0.08, 0.16, 0.08, 0.0, 0.2, 0.0, 0.04, 0.04, 0.04, 0.49, 0.12, 0.32, 0.12, 0.04, 0.0, 0.08, 0.0, 0.0, 0.77, 0.0, 0.2, 0.0, 0.0, 0.0, 0.0, 0.0, 0.0, 0.0, 0.0, 0.0, 0.0, 0.0, 0.0, 0.0, 0.0, 0.69, 0.65, 0.0, 0.0, 0.04, 0.0, 0.08, 0.0, 0.16, 0.0, 0.28, 0.0, 0.89, 0.016, 0.243, 0.0, 0.033, 0.0, 0.016, 2.747, 86.0, 1995.0, 0.0])\n",
            "(1813, [0.0, 0.0, 0.0, 0.0, 0.0, 0.0, 0.0, 0.0, 0.0, 0.0, 0.0, 0.0, 0.0, 0.0, 0.0, 0.0, 0.0, 0.0, 0.0, 0.0, 0.0, 0.0, 0.0, 0.0, 0.0, 0.0, 0.0, 0.0, 0.0, 0.0, 0.0, 0.0, 0.0, 0.0, 0.0, 0.0, 0.0, 0.0, 0.0, 0.0, 0.0, 0.0, 0.0, 0.0, 0.0, 0.0, 0.0, 0.0, 0.022, 0.022, 0.019, 0.022, 0.022, 0.022, 3.482, 5.0, 5902.0, 0.0])\n",
            "(636, [0.56, 0.0, 0.84, 0.0, 0.28, 0.84, 0.0, 0.84, 0.28, 0.28, 0.28, 1.41, 0.0, 0.0, 0.0, 0.0, 1.41, 0.0, 0.84, 1.98, 2.83, 0.0, 0.28, 0.84, 0.0, 0.0, 0.0, 0.0, 0.0, 0.0, 0.0, 0.0, 0.0, 0.0, 0.0, 0.0, 0.0, 0.0, 0.0, 0.0, 0.0, 0.0, 0.0, 0.0, 0.0, 0.0, 0.0, 0.0, 0.0, 0.129, 0.0, 1.294, 0.043, 0.0, 3.979, 47.0, 386.0, 1.0])\n",
            "(3291, [0.1, 0.0, 0.1, 0.0, 0.1, 0.0, 0.0, 0.0, 0.94, 0.0, 0.0, 0.31, 0.0, 0.0, 0.0, 0.0, 0.0, 0.0, 0.41, 0.0, 0.2, 0.0, 0.0, 0.0, 0.52, 0.62, 0.1, 0.0, 0.0, 0.0, 0.0, 0.0, 1.15, 0.0, 0.0, 0.0, 0.1, 0.0, 0.0, 0.0, 0.0, 0.0, 0.0, 0.0, 0.0, 0.0, 0.0, 0.0, 0.132, 0.251, 0.029, 0.0, 0.029, 0.0, 2.784, 32.0, 490.0, 0.0])\n",
            "(424, [0.49, 0.28, 0.4, 0.0, 0.09, 0.11, 0.02, 0.21, 0.42, 0.75, 0.23, 0.89, 0.54, 1.06, 0.0, 0.16, 0.33, 0.02, 3.23, 0.0, 1.46, 0.0, 1.03, 0.51, 0.0, 0.0, 0.0, 0.0, 0.0, 0.0, 0.0, 0.0, 0.0, 0.0, 0.0, 0.0, 0.0, 0.0, 0.0, 0.0, 0.0, 0.0, 0.0, 0.0, 0.02, 0.0, 0.0, 0.0, 0.0, 0.058, 0.0, 0.382, 0.847, 0.141, 5.783, 193.0, 3210.0, 1.0])\n",
            "(1426, [0.74, 0.28, 0.31, 0.0, 0.07, 0.21, 0.0, 0.14, 0.49, 0.35, 0.17, 0.74, 0.56, 1.48, 0.0, 0.17, 0.49, 0.03, 3.24, 0.0, 1.23, 0.0, 0.56, 0.77, 0.0, 0.0, 0.0, 0.0, 0.0, 0.0, 0.0, 0.0, 0.0, 0.0, 0.0, 0.0, 0.0, 0.0, 0.0, 0.0, 0.0, 0.0, 0.0, 0.03, 0.07, 0.0, 0.03, 0.0, 0.006, 0.054, 0.0, 0.678, 1.05, 0.162, 5.648, 154.0, 3084.0, 1.0])\n",
            "(1391, [0.6, 0.0, 0.36, 0.0, 1.44, 0.0, 0.0, 0.0, 0.24, 1.32, 0.72, 2.53, 0.6, 0.0, 0.0, 0.6, 0.24, 0.0, 4.45, 0.0, 1.8, 0.0, 0.72, 0.96, 0.0, 0.0, 0.0, 0.0, 0.0, 0.0, 0.0, 0.0, 0.0, 0.0, 0.0, 0.0, 0.0, 0.0, 0.0, 0.0, 0.0, 0.0, 0.0, 0.0, 0.12, 0.0, 0.0, 0.0, 0.0, 0.04, 0.0, 0.102, 0.224, 0.0, 3.656, 54.0, 479.0, 1.0])\n",
            "(530, [0.0, 0.0, 0.2, 0.0, 0.4, 0.2, 0.0, 0.0, 0.0, 0.0, 0.0, 0.0, 0.0, 0.0, 0.0, 0.0, 0.61, 0.4, 2.45, 0.2, 0.61, 4.49, 0.61, 0.0, 0.0, 0.0, 0.0, 0.0, 0.0, 0.0, 0.0, 0.0, 0.0, 0.0, 0.0, 0.0, 0.0, 0.0, 0.0, 0.0, 0.0, 0.0, 0.0, 0.0, 0.2, 0.0, 0.0, 0.0, 0.0, 0.0, 0.0, 0.382, 0.223, 0.478, 7.538, 55.0, 490.0, 1.0])\n"
          ],
          "name": "stdout"
        }
      ]
    },
    {
      "cell_type": "code",
      "metadata": {
        "id": "YLTfL5Pt-l1C"
      },
      "source": [
        ""
      ],
      "execution_count": null,
      "outputs": []
    },
    {
      "cell_type": "code",
      "metadata": {
        "id": "Hf10484o-lzl"
      },
      "source": [
        "#centroids selection with manhattan distance\n",
        "#selecting farthest centroid\n",
        "def centroid_with_max_dist(x):\n",
        "  arr = np.array(x[1])\n",
        "  max_dist = -np.inf\n",
        "  \n",
        "  for item in bcentroids.value:\n",
        "    index = item[0]\n",
        "    centroid = np.array(item[1])\n",
        "    dist = spa.cityblock(arr, centroid)\n",
        "    \n",
        "    if dist > max_dist:\n",
        "      max_dist = dist**2\n",
        "      farthest_centroid = index\n",
        "  \n",
        "  return (x[0],  max_dist)\n",
        "\n",
        "#filtering the centroids\n",
        "def filter_centroids(x):\n",
        "  if x[0] not in bcentroids_keys.value:\n",
        "    return x\n",
        "\n",
        "m_centroids = sc.parallelize(data_rdd.takeSample(False, 1))\n",
        "\n",
        "#broadcasting the centroids\n",
        "bcentroids_keys = sc.broadcast(m_centroids.keys().collect())\n",
        "bcentroids = sc.broadcast(m_centroids.collect())\n",
        "\n",
        "for i in range(1,k):\n",
        "\n",
        "  filtered_rdd = data_rdd.map(filter_centroids).filter(lambda x: x)\n",
        "  max_dist = filtered_rdd.map(lambda x: centroid_with_max_dist(x))\n",
        "  sum = max_dist.map(lambda x : x[1]).sum()\n",
        "  max_dist = max_dist.map(lambda x : (x[0], x[1]/sum))\n",
        "\n",
        "  max_dist_keys = max_dist.keys().collect()\n",
        "  max_dist_values = max_dist.values().collect()\n",
        "\n",
        "  rand = np.random.choice(max_dist_keys, 1, p=max_dist_values)\n",
        "\n",
        "  new_centroid = filtered_rdd.filter(lambda x : x[0] == rand)\n",
        "  m_centroids = m_centroids.union(new_centroid)\n",
        "  \n",
        "  bcentroids_keys = sc.broadcast(m_centroids.keys().collect())\n",
        "  bcentroids = sc.broadcast(m_centroids.collect())"
      ],
      "execution_count": null,
      "outputs": []
    },
    {
      "cell_type": "code",
      "metadata": {
        "id": "sOR2AO3j-lxR",
        "colab": {
          "base_uri": "https://localhost:8080/",
          "height": 241
        },
        "outputId": "dab5d52d-94f1-4a46-dd80-646b763f336c"
      },
      "source": [
        "print(\"Initial Centroids with manhattan distance:\\n\")\n",
        "for item in m_centroids.collect():\n",
        "  print(item)"
      ],
      "execution_count": null,
      "outputs": [
        {
          "output_type": "stream",
          "text": [
            "Initial Centroids with manhattan distance:\n",
            "\n",
            "(2613, [0.0, 0.0, 0.8, 0.0, 2.42, 0.0, 0.0, 0.0, 0.0, 0.0, 0.0, 0.4, 0.0, 0.0, 0.0, 0.0, 0.0, 0.4, 5.26, 0.0, 1.61, 0.0, 0.0, 0.0, 0.4, 0.4, 0.0, 0.0, 0.0, 0.0, 0.0, 0.0, 0.0, 0.0, 0.0, 0.0, 0.0, 0.0, 0.0, 0.0, 0.0, 0.0, 0.0, 0.0, 1.61, 0.0, 0.0, 0.0, 0.0, 0.0, 0.0, 0.27, 0.0, 0.0, 2.36, 35.0, 59.0, 0.0])\n",
            "(1753, [0.0, 0.0, 0.0, 0.04, 0.0, 0.0, 0.0, 0.0, 0.0, 0.0, 0.0, 0.0, 0.0, 0.0, 0.0, 0.02, 0.0, 0.0, 0.02, 0.0, 0.0, 0.0, 0.0, 0.0, 0.0, 0.0, 0.0, 0.0, 0.0, 0.0, 0.0, 0.0, 0.0, 0.0, 0.0, 0.0, 0.0, 0.0, 0.0, 0.0, 0.0, 0.0, 0.0, 0.0, 0.0, 0.0, 0.0, 0.0, 1.024, 9.752, 0.003, 1.542, 1.785, 1.998, 239.571, 9989.0, 10062.0, 1.0])\n",
            "(2300, [0.0, 0.0, 0.57, 0.0, 0.0, 0.0, 0.0, 0.0, 0.0, 0.0, 0.0, 0.57, 0.0, 0.0, 0.0, 0.0, 0.0, 0.0, 0.57, 0.0, 0.57, 0.0, 0.0, 0.0, 0.57, 0.0, 0.0, 0.0, 0.0, 0.0, 0.0, 0.0, 1.15, 0.0, 0.0, 0.0, 0.0, 0.0, 0.0, 0.0, 0.0, 0.0, 0.0, 1.73, 0.0, 0.0, 0.0, 0.0, 0.0, 0.093, 0.0, 0.0, 0.0, 0.0, 1.136, 3.0, 25.0, 0.0])\n",
            "(2397, [0.0, 0.0, 0.0, 0.0, 0.0, 0.0, 0.0, 0.0, 0.0, 0.0, 0.0, 1.49, 0.0, 0.0, 0.0, 0.0, 0.0, 0.0, 0.0, 0.0, 0.0, 0.0, 0.0, 0.0, 2.23, 0.74, 0.0, 0.0, 0.0, 0.74, 0.0, 0.0, 0.0, 0.0, 0.0, 0.0, 1.49, 0.0, 1.49, 0.0, 0.0, 0.0, 0.0, 0.0, 0.0, 0.0, 0.0, 0.0, 0.0, 0.0, 0.0, 0.0, 0.0, 0.0, 4.0, 45.0, 140.0, 0.0])\n",
            "(4073, [0.0, 0.0, 0.0, 0.0, 0.0, 0.0, 0.0, 0.0, 0.0, 0.0, 0.0, 1.29, 0.0, 0.0, 0.0, 0.0, 0.0, 0.0, 1.94, 0.0, 2.59, 0.0, 0.0, 0.0, 0.0, 0.0, 0.0, 0.0, 0.0, 0.0, 0.0, 0.0, 0.0, 0.0, 0.0, 0.0, 0.0, 0.0, 0.0, 0.0, 0.0, 0.0, 0.0, 0.0, 0.0, 0.64, 0.0, 0.0, 0.0, 0.105, 0.105, 0.0, 0.0, 0.0, 1.0, 1.0, 30.0, 0.0])\n",
            "(157, [0.0, 0.0, 0.0, 0.0, 1.36, 0.45, 0.45, 0.0, 0.0, 0.0, 0.0, 0.0, 0.45, 0.0, 0.0, 0.45, 0.45, 0.45, 1.81, 0.0, 0.9, 0.0, 0.0, 0.0, 0.0, 0.0, 0.0, 0.0, 0.0, 0.0, 0.0, 0.0, 0.0, 0.0, 0.0, 0.0, 0.0, 0.0, 0.0, 0.0, 0.0, 0.0, 0.0, 0.0, 0.0, 0.0, 0.0, 0.0, 0.0, 0.135, 0.0, 0.135, 0.0, 0.0, 5.571, 46.0, 117.0, 1.0])\n",
            "(2550, [0.0, 0.0, 0.0, 0.0, 0.0, 0.0, 0.0, 0.0, 0.0, 0.0, 0.0, 0.0, 0.0, 0.0, 0.0, 0.0, 0.0, 0.0, 0.0, 0.0, 0.0, 0.0, 0.0, 0.0, 0.0, 0.0, 0.0, 0.0, 0.0, 0.0, 0.0, 0.0, 0.0, 0.0, 0.0, 0.0, 0.0, 0.0, 0.0, 0.0, 0.0, 0.0, 0.0, 0.0, 0.0, 0.0, 0.0, 0.0, 0.0, 0.344, 0.0, 0.0, 0.0, 0.0, 1.88, 13.0, 47.0, 0.0])\n",
            "(4336, [0.0, 0.0, 0.55, 0.0, 0.0, 0.0, 0.0, 0.0, 0.55, 0.0, 0.0, 0.0, 0.55, 0.0, 0.0, 0.55, 0.0, 0.55, 0.0, 0.0, 0.55, 0.0, 0.0, 0.0, 0.0, 0.0, 0.0, 0.0, 0.0, 0.0, 0.0, 0.0, 0.0, 0.0, 0.0, 0.0, 0.0, 0.0, 0.0, 0.0, 0.0, 0.0, 0.0, 0.0, 0.0, 0.0, 0.0, 0.0, 0.0, 0.093, 0.0, 0.563, 0.0, 0.0, 2.928, 55.0, 82.0, 0.0])\n",
            "(1085, [0.0, 0.0, 0.31, 0.0, 0.63, 0.63, 0.31, 0.31, 0.0, 0.0, 0.0, 0.31, 0.31, 0.0, 0.0, 0.31, 0.31, 0.0, 2.55, 0.0, 3.19, 0.0, 0.0, 0.31, 0.0, 0.0, 0.0, 0.0, 0.0, 0.0, 0.0, 0.0, 0.0, 0.0, 0.0, 0.0, 0.0, 0.0, 0.0, 0.0, 0.0, 0.0, 0.0, 0.0, 0.31, 0.0, 0.0, 0.0, 0.0, 0.108, 0.0, 0.0, 0.163, 0.054, 1.515, 10.0, 144.0, 1.0])\n",
            "(3067, [0.59, 0.0, 1.19, 0.0, 0.59, 1.19, 0.0, 0.0, 0.0, 0.0, 0.0, 0.0, 0.0, 0.0, 0.0, 0.0, 0.0, 0.0, 1.19, 0.0, 0.59, 0.0, 0.0, 0.0, 0.59, 0.0, 1.19, 0.0, 0.0, 0.59, 0.0, 0.59, 0.0, 0.59, 0.0, 0.0, 0.59, 0.0, 0.0, 0.0, 0.0, 0.0, 0.0, 0.0, 0.59, 0.0, 0.0, 0.0, 0.0, 0.312, 0.0, 0.312, 0.0, 0.0, 1.818, 22.0, 80.0, 0.0])\n"
          ],
          "name": "stdout"
        }
      ]
    },
    {
      "cell_type": "code",
      "metadata": {
        "id": "bvOZMNx_nmwr"
      },
      "source": [
        "#assign cluster the appropriate centroid\n",
        "def assign_cluster(e_centroids, m_centroids, data):\n",
        "  e_centroids_data = e_centroids.cartesian(data)\n",
        "  m_centroids_data = m_centroids.cartesian(data)\n",
        "  e_centroids = e_centroids_data.map(lambda x: calculate_distance_euclidien(x[0], x[1]))\n",
        "  m_centroids = m_centroids_data.map(lambda x: calculate_distance_manhattan(x[0], x[1]))\n",
        "  e_updated = e_centroids.groupByKey().map(lambda x: (x[0], list(x[1]))).map(lambda x: compute_least_distance(x))\n",
        "  m_updated = m_centroids.groupByKey().map(lambda x: (x[0], list(x[1]))).map(lambda x: compute_least_distance(x))\n",
        "\n",
        "  return e_updated, m_updated\n",
        "\n",
        "#compute the euclidean distance\n",
        "def calculate_distance_euclidien(centroid_tup, data_tup):\n",
        "    li_centroid = np.array(centroid_tup[1])\n",
        "    li_data = np.array(data_tup[1])\n",
        "    edistance = spa.euclidean(li_centroid, li_data)\n",
        "    return (data_tup[0], (centroid_tup[0], edistance))\n",
        "\n",
        "#compute the manhattan distance\n",
        "def calculate_distance_manhattan(centroid_tup, data_tup):\n",
        "    li_centroid = np.array(centroid_tup[1])\n",
        "    li_data = np.array(data_tup[1])\n",
        "    edistance = spa.cityblock(li_centroid, li_data)\n",
        "    return (data_tup[0], (centroid_tup[0], edistance))\n",
        "\n",
        "#compute the minimum distance\n",
        "def compute_least_distance(row):\n",
        "    least = -1\n",
        "    nearest = None\n",
        "    closest = -1\n",
        "    target = row[0]\n",
        "    centroids_li = row[1]\n",
        "    \n",
        "    for item in centroids_li:\n",
        "        centroid = item[0]\n",
        "        distance = item[1]\n",
        "        if (least == -1) or (distance < least):\n",
        "            least = distance\n",
        "            closest = centroid\n",
        "            nearest = (closest, least)\n",
        "    return (target, nearest)"
      ],
      "execution_count": null,
      "outputs": []
    },
    {
      "cell_type": "code",
      "metadata": {
        "id": "dup9AdPqs84_"
      },
      "source": [
        "#computing single centroid\n",
        "def single_centroid(centroid_index, cluster_elements):\n",
        "    all_cluster_elements = []\n",
        "    for element in cluster_elements:\n",
        "        all_cluster_elements.append(element[0])\n",
        "    averageArray = list(np.average(all_cluster_elements, axis = 0))\n",
        "    single = (centroid_index, averageArray)\n",
        "    return single\n",
        "\n",
        "#fucntion to get all centroids\n",
        "def get_centroids(dataMinDistance):\n",
        "  dataByCluster = dataMinDistance.join(data_rdd).map(lambda x: (x[1][0][0], (x[1][1], x[1][0][1])))\n",
        "  dataByCluster = dataByCluster.groupByKey().map(lambda x: (x[0], list(x[1])))\n",
        "  newCentroids = dataByCluster.map(lambda x: single_centroid(x[0], x[1]))    \n",
        "  return newCentroids\n"
      ],
      "execution_count": null,
      "outputs": []
    },
    {
      "cell_type": "code",
      "metadata": {
        "id": "ZQYfjjdt5xMk"
      },
      "source": [
        "#getting distance between the clusters\n",
        "def get_cluster_seperation(data):\n",
        "  clusters_rdd = data.map(lambda x : x[1])\n",
        "  cluster_distance_rdd = clusters_rdd.map(lambda x: (x[0],(x[1],1)))\n",
        "  temp_cluster_distance_rdd = cluster_distance_rdd.reduceByKey(lambda a,b: (a[0]+b[0], a[1]+b[1]))\n",
        "  avg_cluster_distance_rdd = temp_cluster_distance_rdd.map(lambda x: x[1][0]/x[1][1])\n",
        "  seperation_value = avg_cluster_distance_rdd.sum()\n",
        "  return seperation_value"
      ],
      "execution_count": null,
      "outputs": []
    },
    {
      "cell_type": "code",
      "metadata": {
        "id": "8mPzhOK4tfT8",
        "colab": {
          "base_uri": "https://localhost:8080/",
          "height": 34
        },
        "outputId": "42afa205-879d-4ca4-a083-f3d99bceb8d5"
      },
      "source": [
        "#cost array for both euclidean and manhattan distance\n",
        "e_iter_cost = np.zeros((I,2))\n",
        "m_iter_cost = np.zeros((I,2))\n",
        "\n",
        "start = time.time()\n",
        "\n",
        "for i in range(0,I):\n",
        "\n",
        "  # assigns the data element to the respective cluster\n",
        "  e_closest_cluster, m_closest_cluster =  assign_cluster(e_centroids, m_centroids, data_rdd)\n",
        "\n",
        "  # Get the new centroids with euclidean and manhattan distance\n",
        "  e_new_centroids = get_centroids(e_closest_cluster)\n",
        "  m_new_centroids = get_centroids(m_closest_cluster)\n",
        "\n",
        "  # calculating the distance between the clusters with euclidean and manhattan distance\n",
        "  e_cluster_seperation = get_cluster_seperation(e_new_centroids)\n",
        "  m_cluster_seperation = get_cluster_seperation(m_new_centroids)\n",
        "  \n",
        "  # calculating the cost function with euclidean distance\n",
        "  e_assigned_clusters = e_closest_cluster.map(lambda x : x[1][1]**2)\n",
        "  e_cost = e_assigned_clusters.sum()/1000\n",
        "\n",
        "  # calculating the cost function with manhattan distance\n",
        "  m_assigned_clusters = m_closest_cluster.map(lambda x : x[1][1]**2)\n",
        "  m_cost = m_assigned_clusters.sum()/1000\n",
        "\n",
        "  # The final values for plotting\n",
        "  e_iter_cost[i,:] = np.array([i, e_cost])\n",
        "  m_iter_cost[i,:] = np.array([i, m_cost])\n",
        "\n",
        "  # using the new centroid to update the existing centroid\n",
        "  e_centroids = sc.parallelize(e_new_centroids.collect())\n",
        "  m_centroids = sc.parallelize(m_new_centroids.collect())\n",
        "\n",
        "print('Execution finished in : %.3f' %(time.time() - start))\n"
      ],
      "execution_count": null,
      "outputs": [
        {
          "output_type": "stream",
          "text": [
            "Execution finished in : 168.067\n"
          ],
          "name": "stdout"
        }
      ]
    },
    {
      "cell_type": "code",
      "metadata": {
        "id": "0j4_UZWEFALU",
        "colab": {
          "base_uri": "https://localhost:8080/",
          "height": 34
        },
        "outputId": "1e10b0d9-8b02-4bf2-fb57-b73badc1f47d"
      },
      "source": [
        "#writing centroid data to the file\n",
        "\n",
        "output1 = open(\"/content/drive/My Drive/BIGDATA Fall2020/Project 3/kmeanspp_k_centroids.txt\", \"a\") \n",
        "output1.write(\"k centroids with euclidean distance are as follows\\n\\n\")\n",
        "for val in e_centroids.collect():\n",
        "  output1.write(str(val))\n",
        "  output1.write(\"\\n\")\n",
        "\n",
        "output1.write(\"\\n\\n\\n\")"
      ],
      "execution_count": null,
      "outputs": [
        {
          "output_type": "execute_result",
          "data": {
            "text/plain": [
              "3"
            ]
          },
          "metadata": {
            "tags": []
          },
          "execution_count": 15
        }
      ]
    },
    {
      "cell_type": "code",
      "metadata": {
        "id": "n8JbX4EKF8tb"
      },
      "source": [
        "output1.write(\"k centroids with manhattan distance are as follows\\n\\n\")\n",
        "for val in m_centroids.collect():\n",
        "  output1.write(str(val))\n",
        "  output1.write(\"\\n\")\n",
        "\n",
        "output1.close()"
      ],
      "execution_count": null,
      "outputs": []
    },
    {
      "cell_type": "code",
      "metadata": {
        "id": "RO34z-Sej9jn",
        "colab": {
          "base_uri": "https://localhost:8080/",
          "height": 513
        },
        "outputId": "78cb0ccd-a803-45c3-c149-4492789bbc0c"
      },
      "source": [
        "figure, axes = plt.subplots(1,1,figsize=(10,8))            # setting up the plot parameters\n",
        "\n",
        "axes.grid()\n",
        "axes.plot(e_iter_cost[:,0], e_iter_cost[:,1], 'b*-',ms=18 , label='Euclidean distance') # plot with euclidean distance\n",
        "axes.plot(m_iter_cost[:,0], m_iter_cost[:,1], 'ro-',ms=12 , label='Manhattan distance') # plot with manhattan distance\n",
        "axes.set_title('kmeans results plot')\n",
        "axes.set_xlabel('Iterations (I)')\n",
        "axes.set_ylabel('$\\phi$ and $\\psi$')\n",
        "axes.legend()\n",
        "\n",
        "plt.show()"
      ],
      "execution_count": null,
      "outputs": [
        {
          "output_type": "display_data",
          "data": {
            "image/png": "[encoded data removed]",
            "text/plain": [
              "<Figure size 720x576 with 1 Axes>"
            ]
          },
          "metadata": {
            "tags": [],
            "needs_background": "light"
          }
        }
      ]
    },
    {
      "cell_type": "markdown",
      "metadata": {
        "id": "Ygt387oJEmA1"
      },
      "source": [
        "## Plot Reasoning \n",
        "After 10 iterations the curves representing the cost function with euclidean and manhattan distance is converging. This is because they found the appropriate centroids and there is very less change observed thereafter. "
      ]
    },
    {
      "cell_type": "code",
      "metadata": {
        "id": "4FvHaALFzKYh"
      },
      "source": [
        ""
      ],
      "execution_count": null,
      "outputs": []
    },
    {
      "cell_type": "code",
      "metadata": {
        "id": "BrUQFwnLzKGk",
        "colab": {
          "base_uri": "https://localhost:8080/",
          "height": 51
        },
        "outputId": "b97ba58f-3501-4238-d660-24181446fbb9"
      },
      "source": [
        "e_percent_change = (e_iter_cost[0][1] - e_iter_cost[10][1])/e_iter_cost[0][1]\n",
        "print(\"Percentage change with the euclidean distance: \" + str(e_percent_change*100))\n",
        "m_percent_change = (m_iter_cost[0][1] - m_iter_cost[10][1])/m_iter_cost[0][1]\n",
        "print(\"Percentage change with the manhattan distance: \" + str(m_percent_change*100))"
      ],
      "execution_count": null,
      "outputs": [
        {
          "output_type": "stream",
          "text": [
            "Percentage change with the euclidean distance: 61.74101031424638\n",
            "Percentage change with the manhattan distance: 81.97844941412255\n"
          ],
          "name": "stdout"
        }
      ]
    },
    {
      "cell_type": "markdown",
      "metadata": {
        "id": "kHsmbS2dEsCF"
      },
      "source": [
        "##Comparison of performance of kmeans and kmeans++\n",
        "Though kmeans++ has overhead of computing initial k centroids it is faster than Kmeans because kmeans++ computes all k centroids at the beginning and chooses the most probable k centroids for the futher computation.\n",
        "Hence it finds correct centroids with less number of iterations as compared to the kmeans algorithms or it converges in less number of iterations as compared to the kmeans algorithms.\n",
        "\n",
        "After 10 iterations the percentage change in the kmeans++ should be ideally less as compared to the kmeans algorithm but some time the deviation in the result has been observed. This may happen if the initial cetroid selected in the kmeans++ is not closer to any of the final centroids. Typically 40% to 50% cost change has been observed for kmeans++ after 10 iterations and 50% to 60% has been observed for kmeans. "
      ]
    },
    {
      "cell_type": "markdown",
      "metadata": {
        "id": "ZI0ZflzVEvPq"
      },
      "source": [
        "## Contribution of team members: \n",
        "Prasad: Wrote logic for Kmeans algorithm and integrated the same code for Kmeans++.\n",
        " \n",
        "Stevens: Wrote logic for computing Kmeans++ initial centroids with both euclidean and manhattan distance. Did graph work"
      ]
    }
  ]
}